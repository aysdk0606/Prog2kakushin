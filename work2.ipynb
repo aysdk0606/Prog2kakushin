{
  "nbformat": 4,
  "nbformat_minor": 0,
  "metadata": {
    "colab": {
      "provenance": [],
      "authorship_tag": "ABX9TyPJGkKstRsNcPaG73RRqoBk",
      "include_colab_link": true
    },
    "kernelspec": {
      "name": "python3",
      "display_name": "Python 3"
    },
    "language_info": {
      "name": "python"
    }
  },
  "cells": [
    {
      "cell_type": "markdown",
      "metadata": {
        "id": "view-in-github",
        "colab_type": "text"
      },
      "source": [
        "<a href=\"https://colab.research.google.com/github/aysdk0606/Prog2kakushin/blob/main/work2.ipynb\" target=\"_parent\"><img src=\"https://colab.research.google.com/assets/colab-badge.svg\" alt=\"Open In Colab\"/></a>"
      ]
    },
    {
      "cell_type": "markdown",
      "source": [
        "第13回　numpyを使ったプログラムの作成\n",
        "\n",
        "提出物,出席を加味した大まかな点数と評定を算出するプログラム\n"
      ],
      "metadata": {
        "id": "URKz4VL21_EU"
      }
    },
    {
      "cell_type": "code",
      "execution_count": 28,
      "metadata": {
        "id": "bX44bn9t15iq",
        "colab": {
          "base_uri": "https://localhost:8080/"
        },
        "outputId": "09211f64-359f-41a0-bef8-095e6e8d5602"
      },
      "outputs": [
        {
          "output_type": "stream",
          "name": "stdout",
          "text": [
            "出席の占める成績の割合:0.4\n",
            "提出物の占める成績の割合:0.4\n",
            "テストの占める成績の割合:0.2\n",
            "第 6 回に出席していません\n",
            "第 8 回に出席していません\n",
            "第 9 回に出席していません\n",
            "第 2 回の課題を提出していません\n",
            "第 4 回の課題を提出していません\n",
            "第 6 回の課題を提出していません\n",
            "第 8 回の課題を提出していません\n",
            "第 10 回の課題を提出していません\n",
            "テストの合計点:120\n",
            "評価は良で\n",
            "素点は 72.0 点です\n"
          ]
        }
      ],
      "source": [
        "import numpy as np\n",
        "\n",
        "##すべて割合で記入(例:50%だと0.5)\n",
        "\n",
        "x=float(input('出席の占める成績の割合:'))\n",
        "y=float(input('提出物の占める成績の割合:'))\n",
        "z=float(input('テストの占める成績の割合:'))\n",
        "\n",
        "if x+y+z!=1.0:\n",
        "  print('正しい値を入力してください')\n",
        "\n",
        "##出席した場合は1,欠席をした場合は0をリスト内に記入(例:[1,1,1,1,1,0,1,0,1,1]→第6回と第8回を休んだ場合)\n",
        "array1=np.array([[1,1,1,1,1,0,1,0,0,1]])\n",
        "l=int(array1.shape[1])\n",
        "n=np.sum(array1)\n",
        "m=100*x\n",
        "h=m/l\n",
        "g=n*h\n",
        "for i in range(l):\n",
        "  if array1[0][i]==0:\n",
        "    print('第',i+1,'回に出席していません')\n",
        "\n",
        "##提出した場合は1,未提出の場合は0をリスト内に記入(例:[1,0,1,0,1,0,1,0,1,1]→第2,4,6,8回の課題が未提出の場合)\n",
        "array2=np.array([[1,0,1,0,1,0,1,0,1,0]])\n",
        "w=int(array2.shape[1])\n",
        "c=np.sum(array2)\n",
        "a=100*y\n",
        "b=a/w\n",
        "d=c*b\n",
        "for r in range(w):\n",
        "  if array2[0][r]==0:\n",
        "    print('第',r+1,'回の課題を提出していません')\n",
        "\n",
        "test=int(input('テストの合計点:'))\n",
        "e=test*z\n",
        "\n",
        "f=g+d+e\n",
        "\n",
        "if f>=90:\n",
        "  print('評価は秀で')\n",
        "elif 80<=f<90:\n",
        "  print('評価は優で')\n",
        "elif 70<=f<80:\n",
        "  print('評価は良で')\n",
        "elif 60<=f<70:\n",
        "  print('評価は可で')\n",
        "else :\n",
        "  print('評価は不可で')\n",
        "\n",
        "print('素点は',f,'点です')\n",
        "\n",
        "\n"
      ]
    }
  ]
}